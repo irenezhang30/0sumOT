{
 "cells": [
  {
   "cell_type": "code",
   "execution_count": 26,
   "id": "2413425f",
   "metadata": {},
   "outputs": [],
   "source": [
    "import sys\n",
    "sys.path.append('../')\n",
    "from games.bridge_kuhn import *\n",
    "import numpy as np"
   ]
  },
  {
   "cell_type": "code",
   "execution_count": 27,
   "id": "faf72d17",
   "metadata": {},
   "outputs": [],
   "source": [
    "def print_game_state(game):\n",
    "    print()\n",
    "    print(\"pos:\", game.bridge_pos)\n",
    "    print(\"curr_bets:\", game.curr_bets)\n",
    "    print(\"cards:\", game.cards)\n",
    "    print(\"rewards:\", game.rewards)\n",
    "    print(\"ended:\", game.ended)\n",
    "    print(\"finished_round:\", game.finished_round())\n",
    "    "
   ]
  },
  {
   "cell_type": "code",
   "execution_count": 28,
   "id": "933d84ab",
   "metadata": {},
   "outputs": [
    {
     "name": "stdout",
     "output_type": "stream",
     "text": [
      "\n",
      "pos: [0, 0]\n",
      "curr_bets: [0, 0]\n",
      "cards: [0, 0]\n",
      "rewards: [0, 0]\n",
      "ended: False\n",
      "finished_round: False\n",
      "[10, 10] [5, 5] 10\n",
      "curr_player:  1\n",
      "(4, [0, 0], 0)\n"
     ]
    }
   ],
   "source": [
    "game = Bridge_Kuhn_Poker(_bridge_len=4)\n",
    "game.start_game()\n",
    "print_game_state(game)\n",
    "print(game.num_states, game.num_actions, game.max_turn_number)\n",
    "\n",
    "game.action(\"check\")\n",
    "print (game.observe())"
   ]
  },
  {
   "cell_type": "code",
   "execution_count": 24,
   "id": "c04db5c0",
   "metadata": {},
   "outputs": [
    {
     "name": "stdout",
     "output_type": "stream",
     "text": [
      "curr_player:  1\n",
      "(4, [0, 0], 0)\n",
      "curr_player:  0\n",
      "(-1, None, -10)\n",
      "\n",
      "pos: [0, 1]\n",
      "curr_bets: [0, 0]\n",
      "cards: [0, 0]\n",
      "rewards: [-10, 10]\n",
      "ended: True\n",
      "finished_round: False\n"
     ]
    }
   ],
   "source": [
    "game.action(\"check\")\n",
    "print (game.observe())\n",
    "game.action(\"right\")\n",
    "print (game.observe())\n",
    "print_game_state(game)"
   ]
  },
  {
   "cell_type": "code",
   "execution_count": 5,
   "id": "814e680d",
   "metadata": {},
   "outputs": [
    {
     "name": "stdout",
     "output_type": "stream",
     "text": [
      "executing action right for player 0, round finished: False\n",
      "curr_player:  1\n",
      "(4, [0, 0], 0)\n",
      "executing action right for player 1, round finished: True\n",
      "curr_player:  0\n",
      "(5, [0, 0], 0)\n",
      "\n",
      "pos: [2, 2]\n",
      "curr_bets: [0, 0]\n",
      "cards: [0, 0]\n",
      "rewards: [0, 0]\n",
      "ended: False\n",
      "finished_round: False\n"
     ]
    }
   ],
   "source": [
    "game.action(\"right\")\n",
    "print (game.observe())\n",
    "game.action(\"right\")\n",
    "print (game.observe())\n",
    "print_game_state(game)"
   ]
  },
  {
   "cell_type": "code",
   "execution_count": 6,
   "id": "95bf51ea",
   "metadata": {},
   "outputs": [
    {
     "name": "stdout",
     "output_type": "stream",
     "text": [
      "executing action right for player 0, round finished: False\n",
      "curr_player:  1\n",
      "(5, [0, 0], 0)\n",
      "executing action right for player 1, round finished: True\n",
      "curr_player:  0\n",
      "(2, [1, 1], 0)\n",
      "\n",
      "pos: [3, 3]\n",
      "curr_bets: [1, 1]\n",
      "cards: [2, 3]\n",
      "rewards: [0, 0]\n",
      "ended: False\n",
      "finished_round: False\n"
     ]
    }
   ],
   "source": [
    "game.action(\"right\")\n",
    "print (game.observe())\n",
    "game.action(\"right\")\n",
    "print (game.observe())\n",
    "print_game_state(game)"
   ]
  },
  {
   "cell_type": "code",
   "execution_count": 7,
   "id": "e5ce70fb",
   "metadata": {},
   "outputs": [
    {
     "name": "stdout",
     "output_type": "stream",
     "text": [
      "executing action check for player 0, round finished: False\n",
      "curr_player:  1\n",
      "(3, [1, 1], 0)\n",
      "executing action check for player 1, round finished: True\n",
      "curr_player:  0\n",
      "(-1, None, -1)\n",
      "\n",
      "pos: [3, 3]\n",
      "curr_bets: [1, 1]\n",
      "cards: [2, 3]\n",
      "rewards: [-1, 1]\n",
      "ended: True\n",
      "finished_round: False\n",
      "[-1, 1]\n"
     ]
    }
   ],
   "source": [
    "game.action(\"check\")\n",
    "print (game.observe())\n",
    "game.action(\"check\")\n",
    "print (game.observe())\n",
    "print_game_state(game)\n",
    "print (game.rewards)"
   ]
  },
  {
   "cell_type": "code",
   "execution_count": null,
   "id": "e9fe45a7",
   "metadata": {},
   "outputs": [],
   "source": [
    "# game.action(\"bet\")\n",
    "# print (game.observe())\n",
    "# print_game_state(game)"
   ]
  },
  {
   "cell_type": "code",
   "execution_count": null,
   "id": "3e516730",
   "metadata": {},
   "outputs": [],
   "source": [
    "# game.action(\"check\")\n",
    "# print (game.observe())\n",
    "# game.action(\"bet\")\n",
    "# print (game.observe())\n",
    "# print_game_state(game)\n",
    "# print (game.rewards)"
   ]
  },
  {
   "cell_type": "code",
   "execution_count": null,
   "id": "03a21d51",
   "metadata": {},
   "outputs": [],
   "source": []
  },
  {
   "cell_type": "code",
   "execution_count": 2,
   "id": "4e21df75",
   "metadata": {},
   "outputs": [
    {
     "ename": "ModuleNotFoundError",
     "evalue": "No module named 'games'",
     "output_type": "error",
     "traceback": [
      "\u001b[0;31m---------------------------------------------------------------------------\u001b[0m",
      "\u001b[0;31mModuleNotFoundError\u001b[0m                       Traceback (most recent call last)",
      "Cell \u001b[0;32mIn [2], line 1\u001b[0m\n\u001b[0;32m----> 1\u001b[0m \u001b[38;5;28;01mfrom\u001b[39;00m \u001b[38;5;21;01mgames\u001b[39;00m\u001b[38;5;21;01m.\u001b[39;00m\u001b[38;5;21;01mkuhn\u001b[39;00m \u001b[38;5;28;01mimport\u001b[39;00m Kuhn_Poker\n\u001b[1;32m      3\u001b[0m \u001b[38;5;28;01mdef\u001b[39;00m \u001b[38;5;21mprint_vanilla_state\u001b[39m(game):\n\u001b[1;32m      4\u001b[0m     \u001b[38;5;28mprint\u001b[39m(\u001b[38;5;124m\"\u001b[39m\u001b[38;5;124mcurr_bets:\u001b[39m\u001b[38;5;124m\"\u001b[39m, game\u001b[38;5;241m.\u001b[39mcurr_bets)\n",
      "\u001b[0;31mModuleNotFoundError\u001b[0m: No module named 'games'"
     ]
    }
   ],
   "source": [
    "from games.kuhn import Kuhn_Poker\n",
    "\n",
    "def print_vanilla_state(game):\n",
    "    print(\"curr_bets:\", game.curr_bets)\n",
    "    print(\"cards:\", game.cards)\n",
    "    print(\"rewards:\", game.rewards)\n",
    "    print(\"ended:\", game.ended)\n",
    "    \n",
    "    \n",
    "vanilla = Kuhn_Poker()\n",
    "vanilla.start_game()\n",
    "print_vanilla_state(vanilla)\n",
    "print(vanilla.num_states, vanilla.num_actions)"
   ]
  },
  {
   "cell_type": "code",
   "execution_count": 9,
   "id": "35555d60",
   "metadata": {},
   "outputs": [
    {
     "name": "stdout",
     "output_type": "stream",
     "text": [
      "(3, [1, 1], 0)\n",
      "(-1, None, -1)\n",
      "curr_bets: [1, 1]\n",
      "cards: [2, 3]\n",
      "rewards: [-1, 1]\n",
      "ended: True\n",
      "[-1, 1]\n"
     ]
    }
   ],
   "source": [
    "vanilla.action(\"check\")\n",
    "print (vanilla.observe())\n",
    "vanilla.action(\"check\")\n",
    "print (vanilla.observe())\n",
    "print_vanilla_state(vanilla)\n",
    "print (vanilla.rewards)"
   ]
  },
  {
   "cell_type": "code",
   "execution_count": 10,
   "id": "1caf002d",
   "metadata": {},
   "outputs": [
    {
     "name": "stdout",
     "output_type": "stream",
     "text": [
      "(-1, None, 1)\n",
      "(-1, None, 1)\n",
      "curr_bets: [1, 1]\n",
      "cards: [2, 3]\n",
      "rewards: [-1, 1]\n",
      "ended: True\n"
     ]
    }
   ],
   "source": [
    "vanilla.action(\"bet\")\n",
    "print (vanilla.observe())\n",
    "print (vanilla.observe())\n",
    "print_vanilla_state(vanilla)"
   ]
  },
  {
   "cell_type": "code",
   "execution_count": 1,
   "id": "9364102b",
   "metadata": {},
   "outputs": [],
   "source": [
    "import sys\n",
    "sys.path.append('../')\n",
    "from games.bridge_kuhn import Bridge_Kuhn_Poker_int_io"
   ]
  },
  {
   "cell_type": "code",
   "execution_count": 3,
   "id": "ce5ea520",
   "metadata": {},
   "outputs": [],
   "source": [
    "a = Bridge_Kuhn_Poker_int_io(_bridge_len=10)"
   ]
  },
  {
   "cell_type": "code",
   "execution_count": 7,
   "id": "33e28a9b",
   "metadata": {},
   "outputs": [
    {
     "data": {
      "text/plain": [
       "5"
      ]
     },
     "execution_count": 7,
     "metadata": {},
     "output_type": "execute_result"
    }
   ],
   "source": [
    "Bridge_Kuhn_Poker_int_io(_bridge_len=5).bridge_len"
   ]
  },
  {
   "cell_type": "code",
   "execution_count": 8,
   "id": "324a8421",
   "metadata": {},
   "outputs": [
    {
     "data": {
      "text/plain": [
       "<agents.learners.bridge_kuhn_exact_solver at 0x10b727100>"
      ]
     },
     "execution_count": 8,
     "metadata": {},
     "output_type": "execute_result"
    }
   ],
   "source": [
    "import agents.learners as learners\n",
    "learners.bridge_kuhn_exact_solver(4)"
   ]
  },
  {
   "cell_type": "code",
   "execution_count": 10,
   "id": "f4e7bae9",
   "metadata": {},
   "outputs": [
    {
     "data": {
      "text/plain": [
       "[(0,), (1,), (2,), (3,), (4,), (5,), (6,), (7,)]"
      ]
     },
     "execution_count": 10,
     "metadata": {},
     "output_type": "execute_result"
    }
   ],
   "source": [
    "[(i,) for i in range(3 + 5)]"
   ]
  },
  {
   "cell_type": "code",
   "execution_count": 2,
   "id": "abbdfdf7",
   "metadata": {},
   "outputs": [],
   "source": [
    "from games.kuhn import *"
   ]
  },
  {
   "cell_type": "code",
   "execution_count": 14,
   "id": "584b204c",
   "metadata": {},
   "outputs": [],
   "source": [
    "game = Kuhn_Poker_int_io()"
   ]
  },
  {
   "cell_type": "code",
   "execution_count": 15,
   "id": "49b248d2",
   "metadata": {},
   "outputs": [],
   "source": [
    "game.start_game()"
   ]
  },
  {
   "cell_type": "code",
   "execution_count": 16,
   "id": "98a6bc0d",
   "metadata": {},
   "outputs": [
    {
     "name": "stdout",
     "output_type": "stream",
     "text": [
      "[2, 3]\n",
      "(1, 0)\n"
     ]
    }
   ],
   "source": [
    "print (game.cards)\n",
    "print (game.observe())"
   ]
  },
  {
   "cell_type": "code",
   "execution_count": 17,
   "id": "6ae0199f",
   "metadata": {},
   "outputs": [
    {
     "ename": "AttributeError",
     "evalue": "'Kuhn_Poker_int_io' object has no attribute 'super'",
     "output_type": "error",
     "traceback": [
      "\u001b[0;31m---------------------------------------------------------------------------\u001b[0m",
      "\u001b[0;31mAttributeError\u001b[0m                            Traceback (most recent call last)",
      "Cell \u001b[0;32mIn [17], line 1\u001b[0m\n\u001b[0;32m----> 1\u001b[0m \u001b[43mgame\u001b[49m\u001b[38;5;241;43m.\u001b[39;49m\u001b[43msuper\u001b[49m()\u001b[38;5;241m.\u001b[39mobserve()\n",
      "\u001b[0;31mAttributeError\u001b[0m: 'Kuhn_Poker_int_io' object has no attribute 'super'"
     ]
    }
   ],
   "source": [
    "game.super().observe()"
   ]
  },
  {
   "cell_type": "code",
   "execution_count": 12,
   "id": "716ed35b",
   "metadata": {},
   "outputs": [
    {
     "data": {
      "text/plain": [
       "0"
      ]
     },
     "execution_count": 12,
     "metadata": {},
     "output_type": "execute_result"
    }
   ],
   "source": [
    "from games.bridge_kuhn import "
   ]
  },
  {
   "cell_type": "code",
   "execution_count": 9,
   "id": "8a5ce72f",
   "metadata": {},
   "outputs": [
    {
     "data": {
      "text/plain": [
       "[2, 3]"
      ]
     },
     "execution_count": 9,
     "metadata": {},
     "output_type": "execute_result"
    }
   ],
   "source": [
    "game.cards"
   ]
  },
  {
   "cell_type": "code",
   "execution_count": 11,
   "id": "46741402",
   "metadata": {},
   "outputs": [
    {
     "data": {
      "text/plain": [
       "[(1,), (2,), (3,)]"
      ]
     },
     "execution_count": 11,
     "metadata": {},
     "output_type": "execute_result"
    }
   ],
   "source": [
    "game.poss_hidden"
   ]
  },
  {
   "cell_type": "code",
   "execution_count": null,
   "id": "a8e8b2ab",
   "metadata": {},
   "outputs": [],
   "source": []
  }
 ],
 "metadata": {
  "kernelspec": {
   "display_name": "Python 3 (ipykernel)",
   "language": "python",
   "name": "python3"
  },
  "language_info": {
   "codemirror_mode": {
    "name": "ipython",
    "version": 3
   },
   "file_extension": ".py",
   "mimetype": "text/x-python",
   "name": "python",
   "nbconvert_exporter": "python",
   "pygments_lexer": "ipython3",
   "version": "3.9.12"
  }
 },
 "nbformat": 4,
 "nbformat_minor": 5
}
